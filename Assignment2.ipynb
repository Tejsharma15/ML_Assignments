{
  "cells": [
    {
      "cell_type": "code",
      "execution_count": 28,
      "metadata": {
        "colab": {
          "base_uri": "https://localhost:8080/"
        },
        "id": "J-OHri660v1T",
        "outputId": "0730555e-9360-4e39-e11f-b19296f5aa77"
      },
      "outputs": [
        {
          "output_type": "stream",
          "name": "stdout",
          "text": [
            "NVIDIA-SMI has failed because it couldn't communicate with the NVIDIA driver. Make sure that the latest NVIDIA driver is installed and running.\n",
            "\n"
          ]
        }
      ],
      "source": [
        "!nvidia-smi"
      ]
    },
    {
      "cell_type": "code",
      "execution_count": 18,
      "metadata": {
        "colab": {
          "base_uri": "https://localhost:8080/"
        },
        "id": "MFBMaRoDtKq4",
        "outputId": "fb7bcc33-1b86-4ae7-e64a-8592ae4e1e98"
      },
      "outputs": [
        {
          "output_type": "stream",
          "name": "stdout",
          "text": [
            "Drive already mounted at /content/drive; to attempt to forcibly remount, call drive.mount(\"/content/drive\", force_remount=True).\n"
          ]
        }
      ],
      "source": [
        "from google.colab import drive\n",
        "drive.mount(\"/content/drive\")"
      ]
    },
    {
      "cell_type": "code",
      "execution_count": 19,
      "metadata": {
        "colab": {
          "base_uri": "https://localhost:8080/"
        },
        "id": "_0HLDwKrtzYr",
        "outputId": "7bc303b5-aa1f-4fb7-a413-8e8881318334"
      },
      "outputs": [
        {
          "output_type": "stream",
          "name": "stdout",
          "text": [
            "Looking in indexes: https://pypi.org/simple, https://us-python.pkg.dev/colab-wheels/public/simple/\n",
            "Requirement already satisfied: torchmetrics in /usr/local/lib/python3.8/dist-packages (0.11.0)\n",
            "Requirement already satisfied: packaging in /usr/local/lib/python3.8/dist-packages (from torchmetrics) (21.3)\n",
            "Requirement already satisfied: numpy>=1.17.2 in /usr/local/lib/python3.8/dist-packages (from torchmetrics) (1.21.6)\n",
            "Requirement already satisfied: torch>=1.8.1 in /usr/local/lib/python3.8/dist-packages (from torchmetrics) (1.13.0+cu116)\n",
            "Requirement already satisfied: typing-extensions in /usr/local/lib/python3.8/dist-packages (from torchmetrics) (4.4.0)\n",
            "Requirement already satisfied: pyparsing!=3.0.5,>=2.0.2 in /usr/local/lib/python3.8/dist-packages (from packaging->torchmetrics) (3.0.9)\n"
          ]
        }
      ],
      "source": [
        "!pip install torchmetrics"
      ]
    },
    {
      "cell_type": "code",
      "execution_count": 20,
      "metadata": {
        "id": "A0i4N9Zhs4Gv"
      },
      "outputs": [],
      "source": [
        "STUDENT_ROLLNO = \"IMT2020548\" #yourRollNumberHere\n",
        "STUDENT_NAME = \"Tejas Sharma\" #yourNameHere\n",
        "#@PROTECTED_1\n",
        "##DO NOT MODIFY THE BELOW CODE. NO OTHER IMPORTS ALLOWED. NO OTHER FILE LOADING OR SAVING ALLOWED.\n",
        "import torch.nn as nn \n",
        "import torch.optim as optim \n",
        "import torchmetrics\n",
        "import torch\n",
        "import sklearn.preprocessing as preprocessing\n",
        "import sklearn.model_selection as model_selection \n",
        "import torch.utils.data as data \n",
        "import numpy as np \n",
        "from tqdm import tqdm\n",
        "X_train = np.load(\"/content/drive/MyDrive/ML_Ass2/Task2/task2/X_train.npy\")\n",
        "y_train = np.load(\"/content/drive/MyDrive/ML_Ass2/Task2/task2/y_train.npy\")\n",
        "X_test = np.load(\"/content/drive/MyDrive/ML_Ass2/Task2/task2/X_test.npy\")\n",
        "submission = np.load(\"/content/drive/MyDrive/ML_Ass2/Task2/task2/sample_submission.npy\")\n",
        "#@PROTECTED_1\n",
        "\n",
        "#Protected_2 has been moved to the end unedited"
      ]
    },
    {
      "cell_type": "code",
      "execution_count": 29,
      "metadata": {
        "colab": {
          "base_uri": "https://localhost:8080/"
        },
        "id": "-XYFU1If07Ps",
        "outputId": "f1b4f5a2-555b-494a-fdd0-f752ec245da1"
      },
      "outputs": [
        {
          "output_type": "execute_result",
          "data": {
            "text/plain": [
              "False"
            ]
          },
          "metadata": {},
          "execution_count": 29
        }
      ],
      "source": [
        "torch.cuda.is_available()"
      ]
    },
    {
      "cell_type": "code",
      "execution_count": 21,
      "metadata": {
        "colab": {
          "base_uri": "https://localhost:8080/"
        },
        "id": "YdVVaf0D1RMr",
        "outputId": "121b994c-d769-40ab-a2fb-e6ef5799e784"
      },
      "outputs": [
        {
          "output_type": "stream",
          "name": "stdout",
          "text": [
            "nvcc: NVIDIA (R) Cuda compiler driver\n",
            "Copyright (c) 2005-2021 NVIDIA Corporation\n",
            "Built on Sun_Feb_14_21:12:58_PST_2021\n",
            "Cuda compilation tools, release 11.2, V11.2.152\n",
            "Build cuda_11.2.r11.2/compiler.29618528_0\n"
          ]
        }
      ],
      "source": [
        "!nvcc --version"
      ]
    },
    {
      "cell_type": "code",
      "execution_count": 22,
      "metadata": {
        "colab": {
          "base_uri": "https://localhost:8080/"
        },
        "id": "_RPH56pA1X5z",
        "outputId": "6bb5a594-1121-4b80-fa50-4fd3ac8c2fe5"
      },
      "outputs": [
        {
          "output_type": "stream",
          "name": "stdout",
          "text": [
            "Looking in indexes: https://pypi.org/simple, https://us-python.pkg.dev/colab-wheels/public/simple/\n",
            "Collecting git+https://github.com/andreinechaev/nvcc4jupyter.git\n",
            "  Cloning https://github.com/andreinechaev/nvcc4jupyter.git to /tmp/pip-req-build-kt80aj7m\n",
            "  Running command git clone -q https://github.com/andreinechaev/nvcc4jupyter.git /tmp/pip-req-build-kt80aj7m\n"
          ]
        }
      ],
      "source": [
        "!pip install git+https://github.com/andreinechaev/nvcc4jupyter.git"
      ]
    },
    {
      "cell_type": "code",
      "execution_count": 24,
      "metadata": {
        "id": "p9HVYvl5t8E7"
      },
      "outputs": [],
      "source": [
        "Scaler = preprocessing.StandardScaler()"
      ]
    },
    {
      "cell_type": "code",
      "execution_count": 25,
      "metadata": {
        "id": "YKzhutB6s9PP"
      },
      "outputs": [],
      "source": [
        "X_train = Scaler.fit_transform(X_train)\n",
        "X_test = Scaler.fit_transform(X_test)"
      ]
    },
    {
      "cell_type": "code",
      "source": [
        "labels = np.zeros((y_train.size, y_train.max()+1))\n",
        "labels[np.arange(y_train.size),y_train] = 1"
      ],
      "metadata": {
        "id": "3_y-YOIqYl9b"
      },
      "execution_count": null,
      "outputs": []
    },
    {
      "cell_type": "code",
      "source": [
        "trainset_X, testset_X, trainset_y, testset_y = model_selection.train_test_split(X_train, y_train, test_size=0.3)"
      ],
      "metadata": {
        "id": "xzA1B8yHEQou"
      },
      "execution_count": 26,
      "outputs": []
    },
    {
      "cell_type": "code",
      "source": [
        "# X_tr = X_train[:40000]\n",
        "# Y_train = labels[:40000]\n",
        "# X_test = X_train[40001:]\n",
        "# Y_labels = labels[40001:]\n",
        "# X_test"
      ],
      "metadata": {
        "id": "JxisjysOYp6Z"
      },
      "execution_count": null,
      "outputs": []
    },
    {
      "cell_type": "code",
      "source": [
        "# Y_train = torch.from_numpy(Y_train).cuda().float()\n",
        "# X_train = torch.from_numpy(X_tr).cuda().float()\n",
        "# X_test = torch.from_numpy(X_test).cuda().float()\n",
        "# Y_test = torch.from_numpy(Y_labels).cuda().float()"
      ],
      "metadata": {
        "id": "-UFh_JWaZP0T"
      },
      "execution_count": null,
      "outputs": []
    },
    {
      "cell_type": "code",
      "execution_count": 27,
      "metadata": {
        "id": "j7EK3j7buGp8",
        "colab": {
          "base_uri": "https://localhost:8080/",
          "height": 339
        },
        "outputId": "d2ff5bcc-daa4-4d0f-9046-31af23d06191"
      },
      "outputs": [
        {
          "output_type": "error",
          "ename": "RuntimeError",
          "evalue": "ignored",
          "traceback": [
            "\u001b[0;31m---------------------------------------------------------------------------\u001b[0m",
            "\u001b[0;31mRuntimeError\u001b[0m                              Traceback (most recent call last)",
            "\u001b[0;32m<ipython-input-27-4d163377409f>\u001b[0m in \u001b[0;36m<module>\u001b[0;34m\u001b[0m\n\u001b[0;32m----> 1\u001b[0;31m \u001b[0mX_test\u001b[0m \u001b[0;34m=\u001b[0m \u001b[0mtorch\u001b[0m\u001b[0;34m.\u001b[0m\u001b[0mfrom_numpy\u001b[0m\u001b[0;34m(\u001b[0m\u001b[0mtestset_X\u001b[0m\u001b[0;34m)\u001b[0m\u001b[0;34m.\u001b[0m\u001b[0mcuda\u001b[0m\u001b[0;34m(\u001b[0m\u001b[0;34m)\u001b[0m\u001b[0;34m.\u001b[0m\u001b[0mfloat\u001b[0m\u001b[0;34m(\u001b[0m\u001b[0;34m)\u001b[0m\u001b[0;34m\u001b[0m\u001b[0;34m\u001b[0m\u001b[0m\n\u001b[0m\u001b[1;32m      2\u001b[0m \u001b[0mY_test\u001b[0m \u001b[0;34m=\u001b[0m \u001b[0mtorch\u001b[0m\u001b[0;34m.\u001b[0m\u001b[0mfrom_numpy\u001b[0m\u001b[0;34m(\u001b[0m\u001b[0mtestset_y\u001b[0m\u001b[0;34m)\u001b[0m\u001b[0;34m.\u001b[0m\u001b[0mcuda\u001b[0m\u001b[0;34m(\u001b[0m\u001b[0;34m)\u001b[0m\u001b[0;34m.\u001b[0m\u001b[0mfloat\u001b[0m\u001b[0;34m(\u001b[0m\u001b[0;34m)\u001b[0m\u001b[0;34m\u001b[0m\u001b[0;34m\u001b[0m\u001b[0m\n\u001b[1;32m      3\u001b[0m \u001b[0mX_train\u001b[0m \u001b[0;34m=\u001b[0m \u001b[0mtorch\u001b[0m\u001b[0;34m.\u001b[0m\u001b[0mfrom_numpy\u001b[0m\u001b[0;34m(\u001b[0m\u001b[0mtrainset_X\u001b[0m\u001b[0;34m)\u001b[0m\u001b[0;34m.\u001b[0m\u001b[0mcuda\u001b[0m\u001b[0;34m(\u001b[0m\u001b[0;34m)\u001b[0m\u001b[0;34m.\u001b[0m\u001b[0mfloat\u001b[0m\u001b[0;34m(\u001b[0m\u001b[0;34m)\u001b[0m\u001b[0;34m\u001b[0m\u001b[0;34m\u001b[0m\u001b[0m\n\u001b[1;32m      4\u001b[0m \u001b[0mY_train\u001b[0m \u001b[0;34m=\u001b[0m \u001b[0mtorch\u001b[0m\u001b[0;34m.\u001b[0m\u001b[0mfrom_numpy\u001b[0m\u001b[0;34m(\u001b[0m\u001b[0mtrainset_y\u001b[0m\u001b[0;34m)\u001b[0m\u001b[0;34m.\u001b[0m\u001b[0mcuda\u001b[0m\u001b[0;34m(\u001b[0m\u001b[0;34m)\u001b[0m\u001b[0;34m.\u001b[0m\u001b[0mfloat\u001b[0m\u001b[0;34m(\u001b[0m\u001b[0;34m)\u001b[0m\u001b[0;34m\u001b[0m\u001b[0;34m\u001b[0m\u001b[0m\n",
            "\u001b[0;32m/usr/local/lib/python3.8/dist-packages/torch/cuda/__init__.py\u001b[0m in \u001b[0;36m_lazy_init\u001b[0;34m()\u001b[0m\n\u001b[1;32m    227\u001b[0m         \u001b[0;32mif\u001b[0m \u001b[0;34m'CUDA_MODULE_LOADING'\u001b[0m \u001b[0;32mnot\u001b[0m \u001b[0;32min\u001b[0m \u001b[0mos\u001b[0m\u001b[0;34m.\u001b[0m\u001b[0menviron\u001b[0m\u001b[0;34m:\u001b[0m\u001b[0;34m\u001b[0m\u001b[0;34m\u001b[0m\u001b[0m\n\u001b[1;32m    228\u001b[0m             \u001b[0mos\u001b[0m\u001b[0;34m.\u001b[0m\u001b[0menviron\u001b[0m\u001b[0;34m[\u001b[0m\u001b[0;34m'CUDA_MODULE_LOADING'\u001b[0m\u001b[0;34m]\u001b[0m \u001b[0;34m=\u001b[0m \u001b[0;34m'LAZY'\u001b[0m\u001b[0;34m\u001b[0m\u001b[0;34m\u001b[0m\u001b[0m\n\u001b[0;32m--> 229\u001b[0;31m         \u001b[0mtorch\u001b[0m\u001b[0;34m.\u001b[0m\u001b[0m_C\u001b[0m\u001b[0;34m.\u001b[0m\u001b[0m_cuda_init\u001b[0m\u001b[0;34m(\u001b[0m\u001b[0;34m)\u001b[0m\u001b[0;34m\u001b[0m\u001b[0;34m\u001b[0m\u001b[0m\n\u001b[0m\u001b[1;32m    230\u001b[0m         \u001b[0;31m# Some of the queued calls may reentrantly call _lazy_init();\u001b[0m\u001b[0;34m\u001b[0m\u001b[0;34m\u001b[0m\u001b[0;34m\u001b[0m\u001b[0m\n\u001b[1;32m    231\u001b[0m         \u001b[0;31m# we need to just return without initializing in that case.\u001b[0m\u001b[0;34m\u001b[0m\u001b[0;34m\u001b[0m\u001b[0;34m\u001b[0m\u001b[0m\n",
            "\u001b[0;31mRuntimeError\u001b[0m: No CUDA GPUs are available"
          ]
        }
      ],
      "source": [
        "X_test = torch.from_numpy(testset_X).cuda().float()\n",
        "Y_test = torch.from_numpy(testset_y).cuda().float()\n",
        "X_train = torch.from_numpy(trainset_X).cuda().float()\n",
        "Y_train = torch.from_numpy(trainset_y).cuda().float()"
      ]
    },
    {
      "cell_type": "code",
      "execution_count": null,
      "metadata": {
        "id": "asn9Zi_quL42"
      },
      "outputs": [],
      "source": [
        "dataset = data.TensorDataset(X_train, y_train)\n",
        "dataset"
      ]
    },
    {
      "cell_type": "code",
      "execution_count": null,
      "metadata": {
        "id": "OsZrZ3MYunXQ"
      },
      "outputs": [],
      "source": [
        "model = nn.Sequential(\n",
        "      nn.Linear(3072,512),\n",
        "      nn.ELU(alpha=1.5),\n",
        "      nn.Dropout(0.25),\n",
        "\n",
        "      # nn.Linear(1024,512),\n",
        "      # nn.ELU(alpha=1.5),\n",
        "      # nn.Dropout(0.25),\n",
        "\n",
        "      nn.Linear(512,256),\n",
        "      nn.ELU(alpha=1.5),\n",
        "      nn.Dropout(0.25),\n",
        "\n",
        "      nn.Linear(256,128),\n",
        "      nn.ELU(alpha=1.5),\n",
        "      nn.Dropout(0.25),\n",
        "\n",
        "      nn.Linear(128,64),\n",
        "      nn.ELU(alpha=1.5),\n",
        "      nn.Dropout(0.25),\n",
        "      nn.Linear(64, 10),\n",
        "    ).cuda()"
      ]
    },
    {
      "cell_type": "code",
      "execution_count": null,
      "metadata": {
        "id": "yHiX0Yquuy2L"
      },
      "outputs": [],
      "source": [
        "opt = optim.Adam(model.parameters(), lr = 0.001)\n",
        "Loss = nn.CrossEntropyLoss().cuda()\n",
        "\n",
        "epochs = 400\n",
        "costs = []\n",
        "accuracies = []\n",
        "test_costs = []\n",
        "test_accuracies = []"
      ]
    },
    {
      "cell_type": "code",
      "execution_count": null,
      "metadata": {
        "id": "7JMbPnKUu74C"
      },
      "outputs": [],
      "source": [
        "def train_model(epochs, dataset, model):\n",
        "  opt = optim.Adam(model.parameters(), lr = 0.001)\n",
        "  Loss = nn.CrossEntropyLoss().cuda()\n",
        "\n",
        "  losses = []\n",
        "\n",
        "  for epoch in tqdm(range(epochs)):\n",
        "      opt.zero_grad()\n",
        "      preds = model(X)\n",
        "      Entropy_loss = Loss(preds,Y.long())\n",
        "      Entropy_loss.backward()\n",
        "      opt.step()\n",
        "      with torch.no_grad(): \n",
        "        costs.append(Entropy_loss.detach().cpu().numpy().item()) \n",
        "        accuracies.append(acc(preds, y_train).cpu().numpy().item())\n",
        "        testset_yhat_tens = model(X_test) \n",
        "        test_costs.append(Loss(testset_yhat_tens, Y_test).cpu().numpy().item()) \n",
        "        test_accuracies.append(acc(testset_yhat_tens, Y_test).cpu().numpy().item())\n",
        "      train_dl = data.DataLoader(dataset, batch_size = 5000, shuffle = True)\n",
        "      for _,batch in enumerate(train_dl,0):\n",
        "          (X,Y) = (batch[0],batch[1])\n",
        "          losses.append(Entropy_loss.item())\n",
        "  return np.array(losses)"
      ]
    },
    {
      "cell_type": "code",
      "source": [
        "losses = train_model(epochs, dataset, model)"
      ],
      "metadata": {
        "id": "kHwa2hU0aCmD"
      },
      "execution_count": null,
      "outputs": []
    },
    {
      "cell_type": "code",
      "source": [
        "loss_data_avgd = losses.reshape(500, -1).mean(axis = 1)\n",
        "loss_data_avgd"
      ],
      "metadata": {
        "id": "IaBMSfBJxeBJ"
      },
      "execution_count": null,
      "outputs": []
    },
    {
      "cell_type": "code",
      "execution_count": null,
      "metadata": {
        "id": "rgWy3o8lvDvk"
      },
      "outputs": [],
      "source": [
        "model.eval()"
      ]
    },
    {
      "cell_type": "code",
      "execution_count": null,
      "metadata": {
        "id": "mvg2f3KWwexE"
      },
      "outputs": [],
      "source": [
        "y_pred = model(X_test)\n",
        "y_pred = torch.argmax(y_pred, axis=1)"
      ]
    },
    {
      "cell_type": "code",
      "source": [
        "y_pred"
      ],
      "metadata": {
        "id": "NeAxGrIsnbUu"
      },
      "execution_count": null,
      "outputs": []
    },
    {
      "cell_type": "code",
      "source": [
        "Y_test = np.load(\"/content/y_test.npy\")"
      ],
      "metadata": {
        "id": "q5XhLoGmfnxA"
      },
      "execution_count": null,
      "outputs": []
    },
    {
      "cell_type": "code",
      "source": [
        "Y_test = torch.from_numpy(Y_test).cuda()"
      ],
      "metadata": {
        "id": "p_SrY2Jbfsva"
      },
      "execution_count": null,
      "outputs": []
    },
    {
      "cell_type": "code",
      "source": [
        "Y_test"
      ],
      "metadata": {
        "id": "6V4ou6pqndA-"
      },
      "execution_count": null,
      "outputs": []
    },
    {
      "cell_type": "code",
      "execution_count": null,
      "metadata": {
        "id": "yv-GOStRwhCe"
      },
      "outputs": [],
      "source": [
        "acc = torchmetrics.Accuracy(task=\"multiclass\",num_classes=10).to('cuda')\n",
        "acc(Y_test, y_pred).cpu().numpy().item()"
      ]
    },
    {
      "cell_type": "code",
      "source": [
        "#@PROTECTED_2\n",
        "# np.save(\"{}__{}\".format(STUDENT_ROLLNO,STUDENT_NAME))\n",
        "#@PROTECTED_2"
      ],
      "metadata": {
        "id": "5leL-wIOczNt"
      },
      "execution_count": null,
      "outputs": []
    }
  ],
  "metadata": {
    "accelerator": "GPU",
    "colab": {
      "provenance": []
    },
    "gpuClass": "standard",
    "kernelspec": {
      "display_name": "Python 3",
      "name": "python3"
    },
    "language_info": {
      "name": "python"
    }
  },
  "nbformat": 4,
  "nbformat_minor": 0
}